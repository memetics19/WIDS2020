{
  "nbformat": 4,
  "nbformat_minor": 0,
  "metadata": {
    "colab": {
      "name": "Untitled3.ipynb",
      "provenance": [],
      "collapsed_sections": [],
      "toc_visible": true,
      "include_colab_link": true
    },
    "kernelspec": {
      "name": "python3",
      "display_name": "Python 3"
    },
    "accelerator": "GPU"
  },
  "cells": [
    {
      "cell_type": "markdown",
      "metadata": {
        "id": "view-in-github",
        "colab_type": "text"
      },
      "source": [
        "<a href=\"https://colab.research.google.com/github/memetics19/WIDS2020/blob/master/Untitled3.ipynb\" target=\"_parent\"><img src=\"https://colab.research.google.com/assets/colab-badge.svg\" alt=\"Open In Colab\"/></a>"
      ]
    },
    {
      "cell_type": "code",
      "metadata": {
        "colab_type": "code",
        "id": "pcEet6WRcEC5",
        "colab": {}
      },
      "source": [
        "import pandas as pd\n",
        "from  matplotlib import pyplot as plt\n",
        "from scipy import stats\n",
        "import numpy as np\n",
        "import seaborn as sn\n",
        "from matplotlib import pyplot as plt\n",
        "import numpy as np\n",
        "from sklearn.model_selection import train_test_split\n",
        "import xgboost as xgb\n",
        "from sklearn.model_selection import GridSearchCV\n",
        "from sklearn.impute import SimpleImputer\n",
        "from sklearn import preprocessing as pr\n",
        "from sklearn.feature_selection import *\n",
        "\n",
        "\n",
        "\n",
        "\n",
        "\n"
      ],
      "execution_count": 0,
      "outputs": []
    },
    {
      "cell_type": "code",
      "metadata": {
        "id": "O1_P9tBE-8gp",
        "colab_type": "code",
        "colab": {}
      },
      "source": [
        "df = pd.read_csv(\"training_v2.csv\")\n",
        "df = df.drop([\"albumin_apache\",\"bilirubin_apache\",\"fio2_apache\",\"paco2_apache\",\"pao2_apache\",\"urineoutput_apache\",\"d1_diasbp_invasive_max\",\"d1_diasbp_invasive_min\",\"d1_mbp_invasive_max\",\"d1_mbp_invasive_min\",\"d1_sysbp_invasive_max\",\"d1_sysbp_invasive_min\",\"h1_diasbp_invasive_max\",\"h1_diasbp_invasive_min\",\"h1_mbp_invasive_max\",\"h1_mbp_invasive_min\",\"d1_albumin_max\",\"d1_albumin_min\",\"d1_bilirubin_max\",\"d1_bilirubin_min\",\"d1_inr_max\",\"d1_inr_min\",\"d1_lactate_max\",\"h1_albumin_max\",\"h1_albumin_min\",\"h1_bilirubin_max\",\"h1_bilirubin_min\"],axis=1)\n",
        "df = df.drop([\"h1_sysbp_invasive_max\",\"h1_sysbp_invasive_min\",\"d1_lactate_min\",\"h1_bun_max\",\"h1_bun_min\",\"h1_calcium_max\",\"h1_calcium_min\",\"h1_creatinine_max\",\"h1_creatinine_min\",\"h1_glucose_max\",\"h1_glucose_min\",\"h1_hco3_max\",\"h1_hco3_min\",\"h1_hemaglobin_max\",\"h1_hemaglobin_min\"],axis=1)\n",
        "df = df.drop([\"h1_hematocrit_max\",\"h1_hematocrit_min\",\"h1_lactate_max\",\"h1_lactate_min\",\"h1_platelets_max\",\"h1_platelets_min\",\"h1_potassium_max\",\"h1_potassium_min\",\"h1_sodium_max\",\"h1_sodium_min\",\"h1_wbc_max\",\"h1_wbc_min\",\"d1_arterial_pco2_max\",\"d1_arterial_pco2_min\",\"d1_arterial_ph_min\",\"d1_arterial_po2_max\",\"d1_arterial_po2_min\"],axis=1)\n",
        "df = df.drop([\"encounter_id\",\"patient_id\",\"hospital_id\",\"d1_pao2fio2ratio_max\",\"d1_pao2fio2ratio_min\",\"h1_arterial_pco2_max\",\"h1_arterial_pco2_min\",\"h1_arterial_ph_max\",\"h1_arterial_ph_min\",\"h1_arterial_po2_max\",\"h1_arterial_po2_min\",\"h1_pao2fio2ratio_max\",\"h1_pao2fio2ratio_min\"],axis=1)\n",
        "df = df.drop([\"ph_apache\",\"ventilated_apache\",\"d1_diasbp_noninvasive_max\",\"d1_calcium_max\"],axis=1)\n",
        "df = df.dropna(axis=0)"
      ],
      "execution_count": 0,
      "outputs": []
    },
    {
      "cell_type": "code",
      "metadata": {
        "id": "4UxjzODX_CZh",
        "colab_type": "code",
        "colab": {}
      },
      "source": [
        "\n",
        "x = df.drop([\"hospital_death\"],axis=1)\n",
        "pre  = pr.LabelEncoder()\n",
        "x[\"ethnicity\"] = pre.fit_transform(x[\"ethnicity\"])\n",
        "x[\"gender\"] = pre.fit_transform(x[\"gender\"])\n",
        "x[\"hospital_admit_source\"] = pre.fit_transform(x[\"hospital_admit_source\"])\n",
        "x[\"icu_admit_source\"] = pre.fit_transform(x[\"icu_admit_source\"])\n",
        "x[\"icu_stay_type\"] = pre.fit_transform(x[\"icu_stay_type\"])\n",
        "x[\"icu_type\"] = pre.fit_transform(x[\"icu_type\"])\n",
        "x[\"apache_3j_bodysystem\"] = pre.fit_transform(x[\"apache_3j_bodysystem\"])\n",
        "x[\"apache_2_bodysystem\"] = pre.fit_transform(x[\"apache_2_bodysystem\"])\n",
        "x = x.astype(int)\n",
        "\n",
        "y = df[\"hospital_death\"]\n"
      ],
      "execution_count": 0,
      "outputs": []
    },
    {
      "cell_type": "code",
      "metadata": {
        "id": "cdLVzubS7-fQ",
        "colab_type": "code",
        "colab": {}
      },
      "source": [
        "test = pd.read_csv(\"unlabeled.csv\")\n",
        "encounter_id = test[\"encounter_id\"]\n",
        "test = test.drop([\"albumin_apache\",\"bilirubin_apache\",\"fio2_apache\",\"paco2_apache\",\"pao2_apache\",\"urineoutput_apache\",\"d1_diasbp_invasive_max\",\"d1_diasbp_invasive_min\",\"d1_mbp_invasive_max\",\"d1_mbp_invasive_min\",\"d1_sysbp_invasive_max\",\"d1_sysbp_invasive_min\",\"h1_diasbp_invasive_max\",\"h1_diasbp_invasive_min\",\"h1_mbp_invasive_max\",\"h1_mbp_invasive_min\",\"d1_albumin_max\",\"d1_albumin_min\",\"d1_bilirubin_max\",\"d1_bilirubin_min\",\"d1_inr_max\",\"d1_inr_min\",\"d1_lactate_max\",\"h1_albumin_max\",\"h1_albumin_min\",\"h1_bilirubin_max\",\"h1_bilirubin_min\"],axis=1)\n",
        "test = test.drop([\"h1_sysbp_invasive_max\",\"h1_sysbp_invasive_min\",\"d1_lactate_min\",\"h1_bun_max\",\"h1_bun_min\",\"h1_calcium_max\",\"h1_calcium_min\",\"h1_creatinine_max\",\"h1_creatinine_min\",\"h1_glucose_max\",\"h1_glucose_min\",\"h1_hco3_max\",\"h1_hco3_min\",\"h1_hemaglobin_max\",\"h1_hemaglobin_min\"],axis=1)\n",
        "test = test.drop([\"h1_hematocrit_max\",\"h1_hematocrit_min\",\"h1_lactate_max\",\"h1_lactate_min\",\"h1_platelets_max\",\"h1_platelets_min\",\"h1_potassium_max\",\"h1_potassium_min\",\"h1_sodium_max\",\"h1_sodium_min\",\"h1_wbc_max\",\"h1_wbc_min\",\"d1_arterial_pco2_max\",\"d1_arterial_pco2_min\",\"d1_arterial_ph_min\",\"d1_arterial_po2_max\",\"d1_arterial_po2_min\"],axis=1)\n",
        "test = test.drop([\"encounter_id\",\"patient_id\",\"hospital_id\",\"hospital_death\",\"d1_pao2fio2ratio_max\",\"d1_pao2fio2ratio_min\",\"h1_arterial_pco2_max\",\"h1_arterial_pco2_min\",\"h1_arterial_ph_max\",\"h1_arterial_ph_min\",\"h1_arterial_po2_max\",\"h1_arterial_po2_min\",\"h1_pao2fio2ratio_max\",\"h1_pao2fio2ratio_min\"],axis=1)\n",
        "test = test.drop([\"ph_apache\",\"ventilated_apache\",\"d1_diasbp_noninvasive_max\",\"d1_calcium_max\"],axis=1)\n",
        "fill = SimpleImputer(missing_values=np.NAN,strategy=\"most_frequent\")\n",
        "fill  = fill.fit_transform(test)\n",
        "test = pd.DataFrame(fill,columns=test.columns)"
      ],
      "execution_count": 0,
      "outputs": []
    },
    {
      "cell_type": "code",
      "metadata": {
        "id": "4md2xXIs_UBW",
        "colab_type": "code",
        "colab": {}
      },
      "source": [
        "pre = pr.LabelEncoder()\n",
        "test[\"ethnicity\"] = pre.fit_transform(test[\"ethnicity\"])\n",
        "test[\"gender\"] = pre.fit_transform(test[\"gender\"])\n",
        "test[\"hospital_admit_source\"] = pre.fit_transform(test[\"hospital_admit_source\"])\n",
        "test[\"icu_admit_source\"] = pre.fit_transform(test[\"icu_admit_source\"])\n",
        "test[\"icu_stay_type\"] = pre.fit_transform(test[\"icu_stay_type\"])\n",
        "test[\"icu_type\"] = pre.fit_transform(test[\"icu_type\"])\n",
        "test[\"apache_3j_bodysystem\"] = pre.fit_transform(test[\"apache_3j_bodysystem\"])\n",
        "test[\"apache_2_bodysystem\"] = pre.fit_transform(test[\"apache_2_bodysystem\"])\n",
        "test = test.astype(int)"
      ],
      "execution_count": 0,
      "outputs": []
    },
    {
      "cell_type": "code",
      "metadata": {
        "id": "muM52yy6_ctR",
        "colab_type": "code",
        "outputId": "ebd1cc45-f2e4-4a31-8c9f-dde86fac9a79",
        "colab": {
          "base_uri": "https://localhost:8080/",
          "height": 35
        }
      },
      "source": [
        "x_train,x_test,y_train,y_test  = train_test_split(x,y,test_size=0.20,random_state=0)\n",
        "#Using RFE\n",
        "model = xgb.XGBClassifier()\n",
        "rfe = RFE(model,n_features_to_select=109)\n",
        "rfe = rfe.fit(x_train,y_train)\n",
        "#\n",
        "new  = pd.DataFrame({\"columns\":x.columns,\"ranking\":rfe.ranking_,\"selected\":rfe.support_})\n",
        "#\n",
        "new = new.astype(str)\n",
        "new = new[new[\"selected\"].str.contains(\"False\")]\n",
        "col = new[\"columns\"].values\n",
        "print(col)\n"
      ],
      "execution_count": 112,
      "outputs": [
        {
          "output_type": "stream",
          "text": [
            "[]\n"
          ],
          "name": "stdout"
        }
      ]
    },
    {
      "cell_type": "code",
      "metadata": {
        "id": "fBGudbdm_mVt",
        "colab_type": "code",
        "outputId": "3af645e3-f7af-47c6-aa11-cc77f7383604",
        "colab": {
          "base_uri": "https://localhost:8080/",
          "height": 90
        }
      },
      "source": [
        "model = xgb.XGBClassifier(learning_rate=0.1,\n",
        " max_depth=3,\n",
        " min_child_weight=1,\n",
        " gamma=0,\n",
        " verbosity=1,\n",
        " n_estimators=550,\n",
        " objective=\"binary:logistic\"\n",
        " )\n",
        "#\n",
        "model = model.fit(x_train,y_train)\n",
        "tmodel =  model.score(x_test,y_test)\n",
        "trmodel = model.score(x_train,y_train)\n",
        "print(\"test\",tmodel)\n",
        "print(\"train\",trmodel)\n",
        "\n"
      ],
      "execution_count": 116,
      "outputs": [
        {
          "output_type": "stream",
          "text": [
            "test 0.8431876606683805\n",
            "train 0.989060489060489\n",
            "test 0.8431876606683805\n",
            "train 0.989060489060489\n"
          ],
          "name": "stdout"
        }
      ]
    },
    {
      "cell_type": "code",
      "metadata": {
        "id": "VTzVUKuD_ucJ",
        "colab_type": "code",
        "outputId": "c9cefc68-a577-4f95-e857-55fdfb2f736a",
        "colab": {
          "base_uri": "https://localhost:8080/",
          "height": 35
        }
      },
      "source": [
        "param_test1 = {\n",
        " 'max_depth':range(5,10,1),\n",
        " 'min_child_weight':range(3,6,5)\n",
        "}\n",
        "\n",
        "\n",
        "gsearch1 = GridSearchCV(xgb.XGBClassifier( learning_rate =0.1, n_estimators=550, max_depth=3,in_child_weight=1, gamma=0, \n",
        " objective= 'binary:logistic', nthread=4, scale_pos_weight=1, seed=27),\n",
        " param_grid = param_test1, scoring='roc_auc',n_jobs=4, cv=5)\n",
        "gsearch1.fit(x_train,y_train)\n",
        "print(gsearch1.best_params_, gsearch1.best_score_)\n",
        "\n"
      ],
      "execution_count": 114,
      "outputs": [
        {
          "output_type": "stream",
          "text": [
            "{'max_depth': 5, 'min_child_weight': 3} 0.8383725657153279\n"
          ],
          "name": "stdout"
        }
      ]
    },
    {
      "cell_type": "code",
      "metadata": {
        "id": "kn0YtcIJcU-k",
        "colab_type": "code",
        "outputId": "e135a352-3ad9-4e94-ff56-3536be2eee18",
        "colab": {
          "base_uri": "https://localhost:8080/",
          "height": 35
        }
      },
      "source": [
        "ypred = model.predict(test)\n",
        "submission = {\"encounter_id\":encounter_id,\"hospital_death\":ypred}\n",
        "submission = pd.DataFrame(submission)\n",
        "kaggle_submit = submission.to_csv(\"kaggle_submit2.csv\",index = False)\n",
        "print(kaggle_submit)\n"
      ],
      "execution_count": 119,
      "outputs": [
        {
          "output_type": "stream",
          "text": [
            "None\n"
          ],
          "name": "stdout"
        }
      ]
    }
  ]
}