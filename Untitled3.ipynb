{
  "nbformat": 4,
  "nbformat_minor": 0,
  "metadata": {
    "colab": {
      "name": "Untitled3.ipynb",
      "provenance": [],
      "collapsed_sections": [],
      "toc_visible": true,
      "include_colab_link": true
    },
    "kernelspec": {
      "name": "python3",
      "display_name": "Python 3"
    },
    "accelerator": "GPU"
  },
  "cells": [
    {
      "cell_type": "markdown",
      "metadata": {
        "id": "view-in-github",
        "colab_type": "text"
      },
      "source": [
        "<a href=\"https://colab.research.google.com/github/memetics19/WIDS2020/blob/master/Untitled3.ipynb\" target=\"_parent\"><img src=\"https://colab.research.google.com/assets/colab-badge.svg\" alt=\"Open In Colab\"/></a>"
      ]
    },
    {
      "cell_type": "code",
      "metadata": {
        "colab_type": "code",
        "id": "pcEet6WRcEC5",
        "colab": {}
      },
      "source": [
        "import pandas as pd\n",
        "from  matplotlib import pyplot as plt\n",
        "from scipy import stats\n",
        "import numpy as np\n",
        "import seaborn as sn\n",
        "from matplotlib import pyplot as plt\n",
        "import numpy as np\n",
        "from sklearn.model_selection import train_test_split\n",
        "import xgboost as xgb\n",
        "from sklearn.model_selection import GridSearchCV\n",
        "from sklearn.impute import SimpleImputer\n",
        "from sklearn import preprocessing as pr\n",
        "from sklearn.feature_selection import *\n",
        "\n",
        "\n",
        "\n",
        "\n",
        "\n"
      ],
      "execution_count": 0,
      "outputs": []
    },
    {
      "cell_type": "code",
      "metadata": {
        "id": "O1_P9tBE-8gp",
        "colab_type": "code",
        "colab": {}
      },
      "source": [
        "df = pd.read_csv(\"training_v2.csv\")\n",
        "df = df.drop([\"albumin_apache\",\"bilirubin_apache\",\"fio2_apache\",\"paco2_apache\",\"pao2_apache\",\"urineoutput_apache\",\"d1_diasbp_invasive_max\",\"d1_diasbp_invasive_min\",\"d1_mbp_invasive_max\",\"d1_mbp_invasive_min\",\"d1_sysbp_invasive_max\",\"d1_sysbp_invasive_min\",\"h1_diasbp_invasive_max\",\"h1_diasbp_invasive_min\",\"h1_mbp_invasive_max\",\"h1_mbp_invasive_min\",\"d1_albumin_max\",\"d1_albumin_min\",\"d1_bilirubin_max\",\"d1_bilirubin_min\",\"d1_inr_max\",\"d1_inr_min\",\"d1_lactate_max\",\"h1_albumin_max\",\"h1_albumin_min\",\"h1_bilirubin_max\",\"h1_bilirubin_min\"],axis=1)\n",
        "df = df.drop([\"h1_sysbp_invasive_max\",\"h1_sysbp_invasive_min\",\"d1_lactate_min\",\"h1_bun_max\",\"h1_bun_min\",\"h1_calcium_max\",\"h1_calcium_min\",\"h1_creatinine_max\",\"h1_creatinine_min\",\"h1_glucose_max\",\"h1_glucose_min\",\"h1_hco3_max\",\"h1_hco3_min\",\"h1_hemaglobin_max\",\"h1_hemaglobin_min\"],axis=1)\n",
        "df = df.drop([\"h1_hematocrit_max\",\"h1_hematocrit_min\",\"h1_lactate_max\",\"h1_lactate_min\",\"h1_platelets_max\",\"h1_platelets_min\",\"h1_potassium_max\",\"h1_potassium_min\",\"h1_sodium_max\",\"h1_sodium_min\",\"h1_wbc_max\",\"h1_wbc_min\",\"d1_arterial_pco2_max\",\"d1_arterial_pco2_min\",\"d1_arterial_ph_min\",\"d1_arterial_po2_max\",\"d1_arterial_po2_min\"],axis=1)\n",
        "df = df.drop([\"encounter_id\",\"patient_id\",\"hospital_id\",\"d1_pao2fio2ratio_max\",\"d1_pao2fio2ratio_min\",\"h1_arterial_pco2_max\",\"h1_arterial_pco2_min\",\"h1_arterial_ph_max\",\"h1_arterial_ph_min\",\"h1_arterial_po2_max\",\"h1_arterial_po2_min\",\"h1_pao2fio2ratio_max\",\"h1_pao2fio2ratio_min\"],axis=1)\n",
        "df = df.drop([\"ph_apache\",\"ventilated_apache\",\"d1_diasbp_noninvasive_max\",\"d1_calcium_max\"],axis=1)\n",
        "df = df.dropna(axis=0)"
      ],
      "execution_count": 0,
      "outputs": []
    },
    {
      "cell_type": "code",
      "metadata": {
        "id": "4UxjzODX_CZh",
        "colab_type": "code",
        "colab": {}
      },
      "source": [
        "\n",
        "x = df.drop([\"hospital_death\"],axis=1)\n",
        "pre  = pr.LabelEncoder()\n",
        "x[\"ethnicity\"] = pre.fit_transform(x[\"ethnicity\"])\n",
        "x[\"gender\"] = pre.fit_transform(x[\"gender\"])\n",
        "x[\"hospital_admit_source\"] = pre.fit_transform(x[\"hospital_admit_source\"])\n",
        "x[\"icu_admit_source\"] = pre.fit_transform(x[\"icu_admit_source\"])\n",
        "x[\"icu_stay_type\"] = pre.fit_transform(x[\"icu_stay_type\"])\n",
        "x[\"icu_type\"] = pre.fit_transform(x[\"icu_type\"])\n",
        "x[\"apache_3j_bodysystem\"] = pre.fit_transform(x[\"apache_3j_bodysystem\"])\n",
        "x[\"apache_2_bodysystem\"] = pre.fit_transform(x[\"apache_2_bodysystem\"])\n",
        "x = x.astype(int)\n",
        "\n",
        "y = df[\"hospital_death\"]\n"
      ],
      "execution_count": 0,
      "outputs": []
    },
    {
      "cell_type": "code",
      "metadata": {
        "id": "cdLVzubS7-fQ",
        "colab_type": "code",
        "colab": {}
      },
      "source": [
        "test = pd.read_csv(\"unlabeled.csv\")\n",
        "test = test.drop([\"albumin_apache\",\"bilirubin_apache\",\"fio2_apache\",\"paco2_apache\",\"pao2_apache\",\"urineoutput_apache\",\"d1_diasbp_invasive_max\",\"d1_diasbp_invasive_min\",\"d1_mbp_invasive_max\",\"d1_mbp_invasive_min\",\"d1_sysbp_invasive_max\",\"d1_sysbp_invasive_min\",\"h1_diasbp_invasive_max\",\"h1_diasbp_invasive_min\",\"h1_mbp_invasive_max\",\"h1_mbp_invasive_min\",\"d1_albumin_max\",\"d1_albumin_min\",\"d1_bilirubin_max\",\"d1_bilirubin_min\",\"d1_inr_max\",\"d1_inr_min\",\"d1_lactate_max\",\"h1_albumin_max\",\"h1_albumin_min\",\"h1_bilirubin_max\",\"h1_bilirubin_min\"],axis=1)\n",
        "test = test.drop([\"h1_sysbp_invasive_max\",\"h1_sysbp_invasive_min\",\"d1_lactate_min\",\"h1_bun_max\",\"h1_bun_min\",\"h1_calcium_max\",\"h1_calcium_min\",\"h1_creatinine_max\",\"h1_creatinine_min\",\"h1_glucose_max\",\"h1_glucose_min\",\"h1_hco3_max\",\"h1_hco3_min\",\"h1_hemaglobin_max\",\"h1_hemaglobin_min\"],axis=1)\n",
        "test = test.drop([\"h1_hematocrit_max\",\"h1_hematocrit_min\",\"h1_lactate_max\",\"h1_lactate_min\",\"h1_platelets_max\",\"h1_platelets_min\",\"h1_potassium_max\",\"h1_potassium_min\",\"h1_sodium_max\",\"h1_sodium_min\",\"h1_wbc_max\",\"h1_wbc_min\",\"d1_arterial_pco2_max\",\"d1_arterial_pco2_min\",\"d1_arterial_ph_min\",\"d1_arterial_po2_max\",\"d1_arterial_po2_min\"],axis=1)\n",
        "test = test.drop([\"encounter_id\",\"patient_id\",\"hospital_id\",\"hospital_death\",\"d1_pao2fio2ratio_max\",\"d1_pao2fio2ratio_min\",\"h1_arterial_pco2_max\",\"h1_arterial_pco2_min\",\"h1_arterial_ph_max\",\"h1_arterial_ph_min\",\"h1_arterial_po2_max\",\"h1_arterial_po2_min\",\"h1_pao2fio2ratio_max\",\"h1_pao2fio2ratio_min\"],axis=1)\n",
        "test = test.drop([\"ph_apache\",\"ventilated_apache\",\"d1_diasbp_noninvasive_max\",\"d1_calcium_max\"],axis=1)\n",
        "fill = SimpleImputer(missing_values=np.NAN,strategy=\"most_frequent\")\n",
        "fill  = fill.fit_transform(test)\n",
        "test = pd.DataFrame(fill,columns=test.columns)"
      ],
      "execution_count": 0,
      "outputs": []
    },
    {
      "cell_type": "code",
      "metadata": {
        "id": "4md2xXIs_UBW",
        "colab_type": "code",
        "colab": {}
      },
      "source": [
        "pre = pr.LabelEncoder()\n",
        "test[\"ethnicity\"] = pre.fit_transform(test[\"ethnicity\"])\n",
        "test[\"gender\"] = pre.fit_transform(test[\"gender\"])\n",
        "test[\"hospital_admit_source\"] = pre.fit_transform(test[\"hospital_admit_source\"])\n",
        "test[\"icu_admit_source\"] = pre.fit_transform(test[\"icu_admit_source\"])\n",
        "test[\"icu_stay_type\"] = pre.fit_transform(test[\"icu_stay_type\"])\n",
        "test[\"icu_type\"] = pre.fit_transform(test[\"icu_type\"])\n",
        "test[\"apache_3j_bodysystem\"] = pre.fit_transform(test[\"apache_3j_bodysystem\"])\n",
        "test[\"apache_2_bodysystem\"] = pre.fit_transform(test[\"apache_2_bodysystem\"])\n",
        "test = test.astype(int)"
      ],
      "execution_count": 0,
      "outputs": []
    },
    {
      "cell_type": "code",
      "metadata": {
        "id": "muM52yy6_ctR",
        "colab_type": "code",
        "outputId": "07c8916c-dcc4-4c8f-e8e0-9c65e13a11a8",
        "colab": {
          "base_uri": "https://localhost:8080/",
          "height": 35
        }
      },
      "source": [
        "x_train,x_test,y_train,y_test  = train_test_split(x,y,test_size=0.20,random_state=0)\n",
        "#Using RFE\n",
        "model = xgb.XGBClassifier()\n",
        "rfe = RFE(model,n_features_to_select=109)\n",
        "rfe = rfe.fit(x_train,y_train)\n",
        "#\n",
        "new  = pd.DataFrame({\"columns\":x.columns,\"ranking\":rfe.ranking_,\"selected\":rfe.support_})\n",
        "#\n",
        "new = new.astype(str)\n",
        "new = new[new[\"selected\"].str.contains(\"False\")]\n",
        "col = new[\"columns\"].values\n",
        "print(col)\n"
      ],
      "execution_count": 30,
      "outputs": [
        {
          "output_type": "stream",
          "text": [
            "[]\n"
          ],
          "name": "stdout"
        }
      ]
    },
    {
      "cell_type": "code",
      "metadata": {
        "id": "fBGudbdm_mVt",
        "colab_type": "code",
        "outputId": "05fc26f3-ba5f-4849-b62c-39faf6aa0616",
        "colab": {
          "base_uri": "https://localhost:8080/",
          "height": 53
        }
      },
      "source": [
        "model = xgb.XGBClassifier(learning_rate=0.1,\n",
        " max_depth=3,\n",
        " min_child_weight=1,\n",
        " gamma=0,\n",
        " verbosity=1,\n",
        " n_estimators=550)\n",
        "#\n",
        "model = model.fit(x_train,y_train)\n",
        "tmodel =  model.score(x_test,y_test)\n",
        "trmodel = model.score(x_train,y_train)\n",
        "print(\"test\",tmodel)\n",
        "print(\"train\",trmodel)"
      ],
      "execution_count": 112,
      "outputs": [
        {
          "output_type": "stream",
          "text": [
            "test 0.8431876606683805\n",
            "train 0.989060489060489\n"
          ],
          "name": "stdout"
        }
      ]
    },
    {
      "cell_type": "code",
      "metadata": {
        "id": "VTzVUKuD_ucJ",
        "colab_type": "code",
        "colab": {
          "base_uri": "https://localhost:8080/",
          "height": 415
        },
        "outputId": "32bff045-b36b-43da-ec52-98b7bf4918d9"
      },
      "source": [
        "\n",
        "\n",
        "gsearch1 = GridSearchCV(xgb.XGBClassifier( learning_rate =0.1, n_estimators=550, max_depth=3,in_child_weight=1, gamma=0, subsample=0.8, colsample_bytree=0.8,\n",
        " objective= 'binary:logistic', nthread=4, scale_pos_weight=1, seed=27),\n",
        " param_grid = param_test1, scoring='roc_auc',n_jobs=4, cv=5)\n",
        "gsearch1.fit(x_train,y_train)\n",
        "print(gsearch1.best_params_, gsearch1.best_score_)\n",
        "\n",
        "\n",
        "print(model)\n"
      ],
      "execution_count": 137,
      "outputs": [
        {
          "output_type": "error",
          "ename": "KeyboardInterrupt",
          "evalue": "ignored",
          "traceback": [
            "\u001b[0;31m---------------------------------------------------------------------------\u001b[0m",
            "\u001b[0;31mKeyboardInterrupt\u001b[0m                         Traceback (most recent call last)",
            "\u001b[0;32m<ipython-input-137-bde05bdd8f6f>\u001b[0m in \u001b[0;36m<module>\u001b[0;34m()\u001b[0m\n\u001b[1;32m      4\u001b[0m  objective= 'binary:logistic', nthread=4, scale_pos_weight=1, seed=27),\n\u001b[1;32m      5\u001b[0m  param_grid = param_test1, scoring='roc_auc',n_jobs=4, cv=5)\n\u001b[0;32m----> 6\u001b[0;31m \u001b[0mgsearch1\u001b[0m\u001b[0;34m.\u001b[0m\u001b[0mfit\u001b[0m\u001b[0;34m(\u001b[0m\u001b[0mx_train\u001b[0m\u001b[0;34m,\u001b[0m\u001b[0my_train\u001b[0m\u001b[0;34m)\u001b[0m\u001b[0;34m\u001b[0m\u001b[0;34m\u001b[0m\u001b[0m\n\u001b[0m\u001b[1;32m      7\u001b[0m \u001b[0mprint\u001b[0m\u001b[0;34m(\u001b[0m\u001b[0mgsearch1\u001b[0m\u001b[0;34m.\u001b[0m\u001b[0mbest_params_\u001b[0m\u001b[0;34m,\u001b[0m \u001b[0mgsearch1\u001b[0m\u001b[0;34m.\u001b[0m\u001b[0mbest_score_\u001b[0m\u001b[0;34m)\u001b[0m\u001b[0;34m\u001b[0m\u001b[0;34m\u001b[0m\u001b[0m\n\u001b[1;32m      8\u001b[0m \u001b[0;34m\u001b[0m\u001b[0m\n",
            "\u001b[0;32m/usr/local/lib/python3.6/dist-packages/sklearn/model_selection/_search.py\u001b[0m in \u001b[0;36mfit\u001b[0;34m(self, X, y, groups, **fit_params)\u001b[0m\n\u001b[1;32m    708\u001b[0m                 \u001b[0;32mreturn\u001b[0m \u001b[0mresults\u001b[0m\u001b[0;34m\u001b[0m\u001b[0;34m\u001b[0m\u001b[0m\n\u001b[1;32m    709\u001b[0m \u001b[0;34m\u001b[0m\u001b[0m\n\u001b[0;32m--> 710\u001b[0;31m             \u001b[0mself\u001b[0m\u001b[0;34m.\u001b[0m\u001b[0m_run_search\u001b[0m\u001b[0;34m(\u001b[0m\u001b[0mevaluate_candidates\u001b[0m\u001b[0;34m)\u001b[0m\u001b[0;34m\u001b[0m\u001b[0;34m\u001b[0m\u001b[0m\n\u001b[0m\u001b[1;32m    711\u001b[0m \u001b[0;34m\u001b[0m\u001b[0m\n\u001b[1;32m    712\u001b[0m         \u001b[0;31m# For multi-metric evaluation, store the best_index_, best_params_ and\u001b[0m\u001b[0;34m\u001b[0m\u001b[0;34m\u001b[0m\u001b[0;34m\u001b[0m\u001b[0m\n",
            "\u001b[0;32m/usr/local/lib/python3.6/dist-packages/sklearn/model_selection/_search.py\u001b[0m in \u001b[0;36m_run_search\u001b[0;34m(self, evaluate_candidates)\u001b[0m\n\u001b[1;32m   1149\u001b[0m     \u001b[0;32mdef\u001b[0m \u001b[0m_run_search\u001b[0m\u001b[0;34m(\u001b[0m\u001b[0mself\u001b[0m\u001b[0;34m,\u001b[0m \u001b[0mevaluate_candidates\u001b[0m\u001b[0;34m)\u001b[0m\u001b[0;34m:\u001b[0m\u001b[0;34m\u001b[0m\u001b[0;34m\u001b[0m\u001b[0m\n\u001b[1;32m   1150\u001b[0m         \u001b[0;34m\"\"\"Search all candidates in param_grid\"\"\"\u001b[0m\u001b[0;34m\u001b[0m\u001b[0;34m\u001b[0m\u001b[0m\n\u001b[0;32m-> 1151\u001b[0;31m         \u001b[0mevaluate_candidates\u001b[0m\u001b[0;34m(\u001b[0m\u001b[0mParameterGrid\u001b[0m\u001b[0;34m(\u001b[0m\u001b[0mself\u001b[0m\u001b[0;34m.\u001b[0m\u001b[0mparam_grid\u001b[0m\u001b[0;34m)\u001b[0m\u001b[0;34m)\u001b[0m\u001b[0;34m\u001b[0m\u001b[0;34m\u001b[0m\u001b[0m\n\u001b[0m\u001b[1;32m   1152\u001b[0m \u001b[0;34m\u001b[0m\u001b[0m\n\u001b[1;32m   1153\u001b[0m \u001b[0;34m\u001b[0m\u001b[0m\n",
            "\u001b[0;32m/usr/local/lib/python3.6/dist-packages/sklearn/model_selection/_search.py\u001b[0m in \u001b[0;36mevaluate_candidates\u001b[0;34m(candidate_params)\u001b[0m\n\u001b[1;32m    687\u001b[0m                                \u001b[0;32mfor\u001b[0m \u001b[0mparameters\u001b[0m\u001b[0;34m,\u001b[0m \u001b[0;34m(\u001b[0m\u001b[0mtrain\u001b[0m\u001b[0;34m,\u001b[0m \u001b[0mtest\u001b[0m\u001b[0;34m)\u001b[0m\u001b[0;34m\u001b[0m\u001b[0;34m\u001b[0m\u001b[0m\n\u001b[1;32m    688\u001b[0m                                in product(candidate_params,\n\u001b[0;32m--> 689\u001b[0;31m                                           cv.split(X, y, groups)))\n\u001b[0m\u001b[1;32m    690\u001b[0m \u001b[0;34m\u001b[0m\u001b[0m\n\u001b[1;32m    691\u001b[0m                 \u001b[0;32mif\u001b[0m \u001b[0mlen\u001b[0m\u001b[0;34m(\u001b[0m\u001b[0mout\u001b[0m\u001b[0;34m)\u001b[0m \u001b[0;34m<\u001b[0m \u001b[0;36m1\u001b[0m\u001b[0;34m:\u001b[0m\u001b[0;34m\u001b[0m\u001b[0;34m\u001b[0m\u001b[0m\n",
            "\u001b[0;32m/usr/local/lib/python3.6/dist-packages/joblib/parallel.py\u001b[0m in \u001b[0;36m__call__\u001b[0;34m(self, iterable)\u001b[0m\n\u001b[1;32m   1015\u001b[0m \u001b[0;34m\u001b[0m\u001b[0m\n\u001b[1;32m   1016\u001b[0m             \u001b[0;32mwith\u001b[0m \u001b[0mself\u001b[0m\u001b[0;34m.\u001b[0m\u001b[0m_backend\u001b[0m\u001b[0;34m.\u001b[0m\u001b[0mretrieval_context\u001b[0m\u001b[0;34m(\u001b[0m\u001b[0;34m)\u001b[0m\u001b[0;34m:\u001b[0m\u001b[0;34m\u001b[0m\u001b[0;34m\u001b[0m\u001b[0m\n\u001b[0;32m-> 1017\u001b[0;31m                 \u001b[0mself\u001b[0m\u001b[0;34m.\u001b[0m\u001b[0mretrieve\u001b[0m\u001b[0;34m(\u001b[0m\u001b[0;34m)\u001b[0m\u001b[0;34m\u001b[0m\u001b[0;34m\u001b[0m\u001b[0m\n\u001b[0m\u001b[1;32m   1018\u001b[0m             \u001b[0;31m# Make sure that we get a last message telling us we are done\u001b[0m\u001b[0;34m\u001b[0m\u001b[0;34m\u001b[0m\u001b[0;34m\u001b[0m\u001b[0m\n\u001b[1;32m   1019\u001b[0m             \u001b[0melapsed_time\u001b[0m \u001b[0;34m=\u001b[0m \u001b[0mtime\u001b[0m\u001b[0;34m.\u001b[0m\u001b[0mtime\u001b[0m\u001b[0;34m(\u001b[0m\u001b[0;34m)\u001b[0m \u001b[0;34m-\u001b[0m \u001b[0mself\u001b[0m\u001b[0;34m.\u001b[0m\u001b[0m_start_time\u001b[0m\u001b[0;34m\u001b[0m\u001b[0;34m\u001b[0m\u001b[0m\n",
            "\u001b[0;32m/usr/local/lib/python3.6/dist-packages/joblib/parallel.py\u001b[0m in \u001b[0;36mretrieve\u001b[0;34m(self)\u001b[0m\n\u001b[1;32m    907\u001b[0m             \u001b[0;32mtry\u001b[0m\u001b[0;34m:\u001b[0m\u001b[0;34m\u001b[0m\u001b[0;34m\u001b[0m\u001b[0m\n\u001b[1;32m    908\u001b[0m                 \u001b[0;32mif\u001b[0m \u001b[0mgetattr\u001b[0m\u001b[0;34m(\u001b[0m\u001b[0mself\u001b[0m\u001b[0;34m.\u001b[0m\u001b[0m_backend\u001b[0m\u001b[0;34m,\u001b[0m \u001b[0;34m'supports_timeout'\u001b[0m\u001b[0;34m,\u001b[0m \u001b[0;32mFalse\u001b[0m\u001b[0;34m)\u001b[0m\u001b[0;34m:\u001b[0m\u001b[0;34m\u001b[0m\u001b[0;34m\u001b[0m\u001b[0m\n\u001b[0;32m--> 909\u001b[0;31m                     \u001b[0mself\u001b[0m\u001b[0;34m.\u001b[0m\u001b[0m_output\u001b[0m\u001b[0;34m.\u001b[0m\u001b[0mextend\u001b[0m\u001b[0;34m(\u001b[0m\u001b[0mjob\u001b[0m\u001b[0;34m.\u001b[0m\u001b[0mget\u001b[0m\u001b[0;34m(\u001b[0m\u001b[0mtimeout\u001b[0m\u001b[0;34m=\u001b[0m\u001b[0mself\u001b[0m\u001b[0;34m.\u001b[0m\u001b[0mtimeout\u001b[0m\u001b[0;34m)\u001b[0m\u001b[0;34m)\u001b[0m\u001b[0;34m\u001b[0m\u001b[0;34m\u001b[0m\u001b[0m\n\u001b[0m\u001b[1;32m    910\u001b[0m                 \u001b[0;32melse\u001b[0m\u001b[0;34m:\u001b[0m\u001b[0;34m\u001b[0m\u001b[0;34m\u001b[0m\u001b[0m\n\u001b[1;32m    911\u001b[0m                     \u001b[0mself\u001b[0m\u001b[0;34m.\u001b[0m\u001b[0m_output\u001b[0m\u001b[0;34m.\u001b[0m\u001b[0mextend\u001b[0m\u001b[0;34m(\u001b[0m\u001b[0mjob\u001b[0m\u001b[0;34m.\u001b[0m\u001b[0mget\u001b[0m\u001b[0;34m(\u001b[0m\u001b[0;34m)\u001b[0m\u001b[0;34m)\u001b[0m\u001b[0;34m\u001b[0m\u001b[0;34m\u001b[0m\u001b[0m\n",
            "\u001b[0;32m/usr/local/lib/python3.6/dist-packages/joblib/_parallel_backends.py\u001b[0m in \u001b[0;36mwrap_future_result\u001b[0;34m(future, timeout)\u001b[0m\n\u001b[1;32m    560\u001b[0m         AsyncResults.get from multiprocessing.\"\"\"\n\u001b[1;32m    561\u001b[0m         \u001b[0;32mtry\u001b[0m\u001b[0;34m:\u001b[0m\u001b[0;34m\u001b[0m\u001b[0;34m\u001b[0m\u001b[0m\n\u001b[0;32m--> 562\u001b[0;31m             \u001b[0;32mreturn\u001b[0m \u001b[0mfuture\u001b[0m\u001b[0;34m.\u001b[0m\u001b[0mresult\u001b[0m\u001b[0;34m(\u001b[0m\u001b[0mtimeout\u001b[0m\u001b[0;34m=\u001b[0m\u001b[0mtimeout\u001b[0m\u001b[0;34m)\u001b[0m\u001b[0;34m\u001b[0m\u001b[0;34m\u001b[0m\u001b[0m\n\u001b[0m\u001b[1;32m    563\u001b[0m         \u001b[0;32mexcept\u001b[0m \u001b[0mLokyTimeoutError\u001b[0m\u001b[0;34m:\u001b[0m\u001b[0;34m\u001b[0m\u001b[0;34m\u001b[0m\u001b[0m\n\u001b[1;32m    564\u001b[0m             \u001b[0;32mraise\u001b[0m \u001b[0mTimeoutError\u001b[0m\u001b[0;34m(\u001b[0m\u001b[0;34m)\u001b[0m\u001b[0;34m\u001b[0m\u001b[0;34m\u001b[0m\u001b[0m\n",
            "\u001b[0;32m/usr/lib/python3.6/concurrent/futures/_base.py\u001b[0m in \u001b[0;36mresult\u001b[0;34m(self, timeout)\u001b[0m\n\u001b[1;32m    425\u001b[0m                 \u001b[0;32mreturn\u001b[0m \u001b[0mself\u001b[0m\u001b[0;34m.\u001b[0m\u001b[0m__get_result\u001b[0m\u001b[0;34m(\u001b[0m\u001b[0;34m)\u001b[0m\u001b[0;34m\u001b[0m\u001b[0;34m\u001b[0m\u001b[0m\n\u001b[1;32m    426\u001b[0m \u001b[0;34m\u001b[0m\u001b[0m\n\u001b[0;32m--> 427\u001b[0;31m             \u001b[0mself\u001b[0m\u001b[0;34m.\u001b[0m\u001b[0m_condition\u001b[0m\u001b[0;34m.\u001b[0m\u001b[0mwait\u001b[0m\u001b[0;34m(\u001b[0m\u001b[0mtimeout\u001b[0m\u001b[0;34m)\u001b[0m\u001b[0;34m\u001b[0m\u001b[0;34m\u001b[0m\u001b[0m\n\u001b[0m\u001b[1;32m    428\u001b[0m \u001b[0;34m\u001b[0m\u001b[0m\n\u001b[1;32m    429\u001b[0m             \u001b[0;32mif\u001b[0m \u001b[0mself\u001b[0m\u001b[0;34m.\u001b[0m\u001b[0m_state\u001b[0m \u001b[0;32min\u001b[0m \u001b[0;34m[\u001b[0m\u001b[0mCANCELLED\u001b[0m\u001b[0;34m,\u001b[0m \u001b[0mCANCELLED_AND_NOTIFIED\u001b[0m\u001b[0;34m]\u001b[0m\u001b[0;34m:\u001b[0m\u001b[0;34m\u001b[0m\u001b[0;34m\u001b[0m\u001b[0m\n",
            "\u001b[0;32m/usr/lib/python3.6/threading.py\u001b[0m in \u001b[0;36mwait\u001b[0;34m(self, timeout)\u001b[0m\n\u001b[1;32m    293\u001b[0m         \u001b[0;32mtry\u001b[0m\u001b[0;34m:\u001b[0m    \u001b[0;31m# restore state no matter what (e.g., KeyboardInterrupt)\u001b[0m\u001b[0;34m\u001b[0m\u001b[0;34m\u001b[0m\u001b[0m\n\u001b[1;32m    294\u001b[0m             \u001b[0;32mif\u001b[0m \u001b[0mtimeout\u001b[0m \u001b[0;32mis\u001b[0m \u001b[0;32mNone\u001b[0m\u001b[0;34m:\u001b[0m\u001b[0;34m\u001b[0m\u001b[0;34m\u001b[0m\u001b[0m\n\u001b[0;32m--> 295\u001b[0;31m                 \u001b[0mwaiter\u001b[0m\u001b[0;34m.\u001b[0m\u001b[0macquire\u001b[0m\u001b[0;34m(\u001b[0m\u001b[0;34m)\u001b[0m\u001b[0;34m\u001b[0m\u001b[0;34m\u001b[0m\u001b[0m\n\u001b[0m\u001b[1;32m    296\u001b[0m                 \u001b[0mgotit\u001b[0m \u001b[0;34m=\u001b[0m \u001b[0;32mTrue\u001b[0m\u001b[0;34m\u001b[0m\u001b[0;34m\u001b[0m\u001b[0m\n\u001b[1;32m    297\u001b[0m             \u001b[0;32melse\u001b[0m\u001b[0;34m:\u001b[0m\u001b[0;34m\u001b[0m\u001b[0;34m\u001b[0m\u001b[0m\n",
            "\u001b[0;31mKeyboardInterrupt\u001b[0m: "
          ]
        }
      ]
    },
    {
      "cell_type": "code",
      "metadata": {
        "id": "kn0YtcIJcU-k",
        "colab_type": "code",
        "colab": {
          "base_uri": "https://localhost:8080/",
          "height": 171
        },
        "outputId": "e30bee6c-b5f6-471e-c5f6-3a56eb0ce3b6"
      },
      "source": [
        "score.value_counts()"
      ],
      "execution_count": 146,
      "outputs": [
        {
          "output_type": "error",
          "ename": "NameError",
          "evalue": "ignored",
          "traceback": [
            "\u001b[0;31m---------------------------------------------------------------------------\u001b[0m",
            "\u001b[0;31mNameError\u001b[0m                                 Traceback (most recent call last)",
            "\u001b[0;32m<ipython-input-146-bef6f053d6e4>\u001b[0m in \u001b[0;36m<module>\u001b[0;34m()\u001b[0m\n\u001b[0;32m----> 1\u001b[0;31m \u001b[0mscore\u001b[0m\u001b[0;34m.\u001b[0m\u001b[0mvalue_counts\u001b[0m\u001b[0;34m(\u001b[0m\u001b[0;34m)\u001b[0m\u001b[0;34m\u001b[0m\u001b[0;34m\u001b[0m\u001b[0m\n\u001b[0m",
            "\u001b[0;31mNameError\u001b[0m: name 'score' is not defined"
          ]
        }
      ]
    }
  ]
}